{
 "cells": [
  {
   "cell_type": "code",
   "execution_count": 1,
   "metadata": {},
   "outputs": [],
   "source": [
    "import pandas as pd\n",
    "import numpy as np\n",
    "import itertools\n",
    "import matplotlib.pyplot as plt\n",
    "\n",
    "from sklearn.preprocessing import OneHotEncoder\n",
    "from sklearn.model_selection import train_test_split\n",
    "\n",
    "from sklearn.ensemble import RandomForestClassifier\n",
    "from imblearn.ensemble import BalancedRandomForestClassifier\n",
    "\n",
    "from imblearn.metrics import geometric_mean_score\n",
    "from sklearn.metrics import confusion_matrix\n",
    "from sklearn.metrics import balanced_accuracy_score\n",
    "from sklearn.metrics import roc_curve\n",
    "from sklearn.metrics import classification_report\n",
    "from sklearn.metrics import auc\n",
    "from sklearn.metrics import accuracy_score\n",
    "\n",
    "pd.set_option('display.max_columns', 500)"
   ]
  },
  {
   "cell_type": "markdown",
   "metadata": {},
   "source": [
    "### Define Functions"
   ]
  },
  {
   "cell_type": "code",
   "execution_count": 2,
   "metadata": {},
   "outputs": [],
   "source": [
    "def plot_confusion_matrix(cm, classes, ax,\n",
    "                          normalize=False,\n",
    "                          title='Confusion matrix',\n",
    "                          cmap=plt.cm.Blues):\n",
    "    \"\"\"\n",
    "    This function prints and plots the confusion matrix.\n",
    "    Normalization can be applied by setting `normalize=True`.\n",
    "    Example taken from https://imbalanced-learn.readthedocs.io/en/stable/auto_examples/ensemble/plot_comparison_ensemble_classifier.html#sphx-glr-auto-examples-ensemble-plot-comparison-ensemble-classifier-py\n",
    "    \"\"\"\n",
    "    print(cm)\n",
    "    print('')\n",
    "\n",
    "    ax.imshow(cm, interpolation='nearest', cmap=cmap)\n",
    "    ax.set_title(title)\n",
    "    tick_marks = np.arange(len(classes))\n",
    "    plt.xticks(tick_marks, classes, rotation=45)\n",
    "    plt.sca(ax)\n",
    "    plt.yticks(tick_marks, classes)\n",
    "\n",
    "    fmt = '.2f' if normalize else 'd'\n",
    "    thresh = cm.max() / 2.\n",
    "    for i, j in itertools.product(range(cm.shape[0]), range(cm.shape[1])):\n",
    "        ax.text(j, i, format(cm[i, j], fmt),\n",
    "                horizontalalignment=\"center\",\n",
    "                color=\"white\" if cm[i, j] > thresh else \"black\")\n",
    "\n",
    "    ax.set_ylabel('True label')\n",
    "    ax.set_xlabel('Predicted label')"
   ]
  },
  {
   "cell_type": "markdown",
   "metadata": {},
   "source": [
    "### Load and prepare data"
   ]
  },
  {
   "cell_type": "code",
   "execution_count": 4,
   "metadata": {},
   "outputs": [],
   "source": [
    "# Load training data\n",
    "training_data_df = pd.read_csv(\"./Data/train.txt\", sep = \"\\t\")\n",
    "#training_data_df.head(10)\n",
    "#training_data_df.info()"
   ]
  },
  {
   "cell_type": "code",
   "execution_count": 5,
   "metadata": {},
   "outputs": [
    {
     "data": {
      "text/html": [
       "<div>\n",
       "<style scoped>\n",
       "    .dataframe tbody tr th:only-of-type {\n",
       "        vertical-align: middle;\n",
       "    }\n",
       "\n",
       "    .dataframe tbody tr th {\n",
       "        vertical-align: top;\n",
       "    }\n",
       "\n",
       "    .dataframe thead th {\n",
       "        text-align: right;\n",
       "    }\n",
       "</style>\n",
       "<table border=\"1\" class=\"dataframe\">\n",
       "  <thead>\n",
       "    <tr style=\"text-align: right;\">\n",
       "      <th></th>\n",
       "      <th>orderYMD</th>\n",
       "      <th>sku_department_id</th>\n",
       "      <th>order_line_type</th>\n",
       "      <th>category</th>\n",
       "      <th>order_qty</th>\n",
       "      <th>loc_type_desc</th>\n",
       "      <th>loc_type_code</th>\n",
       "      <th>inventory_on_hand</th>\n",
       "      <th>days_in_transit</th>\n",
       "      <th>inventory_above_request</th>\n",
       "      <th>ship_zone</th>\n",
       "      <th>days_diff_planned</th>\n",
       "      <th>calc_days_diff_planned</th>\n",
       "      <th>sec_diff_eventTM_orderDT</th>\n",
       "      <th>day_of_week</th>\n",
       "      <th>week_of_year</th>\n",
       "      <th>diff_cut_grnd_event</th>\n",
       "      <th>diff_cut_air_event</th>\n",
       "      <th>exp_loc_qty_day</th>\n",
       "      <th>exp_loc_order_qty_day</th>\n",
       "      <th>rec_ship_from_loc_lat</th>\n",
       "      <th>rec_ship_from_loc_long</th>\n",
       "      <th>rec_ship_from_loc_cluster</th>\n",
       "      <th>dest_lat</th>\n",
       "      <th>dest_long</th>\n",
       "      <th>dest_cluster</th>\n",
       "      <th>recommended_distance_shipped</th>\n",
       "      <th>SHIP_WHEN_AVAIL_FLAG</th>\n",
       "      <th>PRE_ORDER_FLAG</th>\n",
       "      <th>upgrade_dummy</th>\n",
       "    </tr>\n",
       "  </thead>\n",
       "  <tbody>\n",
       "    <tr>\n",
       "      <th>0</th>\n",
       "      <td>2018-11-16</td>\n",
       "      <td>6</td>\n",
       "      <td>NIB</td>\n",
       "      <td>BESTBUY</td>\n",
       "      <td>1</td>\n",
       "      <td>STORE</td>\n",
       "      <td>MS</td>\n",
       "      <td>461</td>\n",
       "      <td>3.0</td>\n",
       "      <td>460</td>\n",
       "      <td>5.0</td>\n",
       "      <td>11.0</td>\n",
       "      <td>10</td>\n",
       "      <td>2.833</td>\n",
       "      <td>Friday</td>\n",
       "      <td>46</td>\n",
       "      <td>-10236.833</td>\n",
       "      <td>-10236.833</td>\n",
       "      <td>3366099</td>\n",
       "      <td>1310</td>\n",
       "      <td>38.060691</td>\n",
       "      <td>-85.720904</td>\n",
       "      <td>21</td>\n",
       "      <td>29.740630</td>\n",
       "      <td>-95.829571</td>\n",
       "      <td>13</td>\n",
       "      <td>815.284384</td>\n",
       "      <td>N</td>\n",
       "      <td>N</td>\n",
       "      <td>False</td>\n",
       "    </tr>\n",
       "    <tr>\n",
       "      <th>1</th>\n",
       "      <td>2018-11-14</td>\n",
       "      <td>6</td>\n",
       "      <td>NIB</td>\n",
       "      <td>BESTBUY</td>\n",
       "      <td>1</td>\n",
       "      <td>STORE</td>\n",
       "      <td>MS</td>\n",
       "      <td>2</td>\n",
       "      <td>1.0</td>\n",
       "      <td>1</td>\n",
       "      <td>2.0</td>\n",
       "      <td>1.0</td>\n",
       "      <td>0</td>\n",
       "      <td>2.261</td>\n",
       "      <td>Wednesday</td>\n",
       "      <td>46</td>\n",
       "      <td>-18431.261</td>\n",
       "      <td>-18431.261</td>\n",
       "      <td>277</td>\n",
       "      <td>17</td>\n",
       "      <td>29.044149</td>\n",
       "      <td>-95.456131</td>\n",
       "      <td>13</td>\n",
       "      <td>30.178248</td>\n",
       "      <td>-95.500960</td>\n",
       "      <td>13</td>\n",
       "      <td>78.159317</td>\n",
       "      <td>N</td>\n",
       "      <td>N</td>\n",
       "      <td>False</td>\n",
       "    </tr>\n",
       "    <tr>\n",
       "      <th>2</th>\n",
       "      <td>2018-11-20</td>\n",
       "      <td>10</td>\n",
       "      <td>NIB</td>\n",
       "      <td>BESTBUY</td>\n",
       "      <td>1</td>\n",
       "      <td>STORE</td>\n",
       "      <td>SDS</td>\n",
       "      <td>2</td>\n",
       "      <td>1.0</td>\n",
       "      <td>1</td>\n",
       "      <td>4.0</td>\n",
       "      <td>6.0</td>\n",
       "      <td>5</td>\n",
       "      <td>5.200</td>\n",
       "      <td>Tuesday</td>\n",
       "      <td>47</td>\n",
       "      <td>7917.800</td>\n",
       "      <td>14217.800</td>\n",
       "      <td>13</td>\n",
       "      <td>7</td>\n",
       "      <td>30.472990</td>\n",
       "      <td>-81.643570</td>\n",
       "      <td>22</td>\n",
       "      <td>30.339837</td>\n",
       "      <td>-87.373783</td>\n",
       "      <td>6</td>\n",
       "      <td>342.225758</td>\n",
       "      <td>N</td>\n",
       "      <td>N</td>\n",
       "      <td>False</td>\n",
       "    </tr>\n",
       "    <tr>\n",
       "      <th>3</th>\n",
       "      <td>2018-11-20</td>\n",
       "      <td>5</td>\n",
       "      <td>NIB</td>\n",
       "      <td>BESTBUY</td>\n",
       "      <td>2</td>\n",
       "      <td>STORE</td>\n",
       "      <td>MS</td>\n",
       "      <td>37</td>\n",
       "      <td>1.0</td>\n",
       "      <td>35</td>\n",
       "      <td>2.0</td>\n",
       "      <td>7.0</td>\n",
       "      <td>6</td>\n",
       "      <td>5.278</td>\n",
       "      <td>Tuesday</td>\n",
       "      <td>47</td>\n",
       "      <td>-29771.278</td>\n",
       "      <td>-30671.278</td>\n",
       "      <td>128</td>\n",
       "      <td>14</td>\n",
       "      <td>33.727421</td>\n",
       "      <td>-84.757843</td>\n",
       "      <td>12</td>\n",
       "      <td>34.034515</td>\n",
       "      <td>-84.707349</td>\n",
       "      <td>12</td>\n",
       "      <td>21.363836</td>\n",
       "      <td>N</td>\n",
       "      <td>N</td>\n",
       "      <td>False</td>\n",
       "    </tr>\n",
       "    <tr>\n",
       "      <th>4</th>\n",
       "      <td>2018-11-17</td>\n",
       "      <td>10</td>\n",
       "      <td>NIB</td>\n",
       "      <td>RETAIL</td>\n",
       "      <td>1</td>\n",
       "      <td>DC</td>\n",
       "      <td>DC</td>\n",
       "      <td>1626</td>\n",
       "      <td>2.0</td>\n",
       "      <td>1625</td>\n",
       "      <td>4.0</td>\n",
       "      <td>2.0</td>\n",
       "      <td>1</td>\n",
       "      <td>557.562</td>\n",
       "      <td>Saturday</td>\n",
       "      <td>46</td>\n",
       "      <td>-31390.562</td>\n",
       "      <td>-31390.562</td>\n",
       "      <td>949769</td>\n",
       "      <td>1522</td>\n",
       "      <td>36.542556</td>\n",
       "      <td>-119.404051</td>\n",
       "      <td>9</td>\n",
       "      <td>41.194538</td>\n",
       "      <td>-111.906345</td>\n",
       "      <td>7</td>\n",
       "      <td>515.844914</td>\n",
       "      <td>N</td>\n",
       "      <td>N</td>\n",
       "      <td>True</td>\n",
       "    </tr>\n",
       "  </tbody>\n",
       "</table>\n",
       "</div>"
      ],
      "text/plain": [
       "     orderYMD sku_department_id order_line_type category  order_qty  \\\n",
       "0  2018-11-16                 6             NIB  BESTBUY          1   \n",
       "1  2018-11-14                 6             NIB  BESTBUY          1   \n",
       "2  2018-11-20                10             NIB  BESTBUY          1   \n",
       "3  2018-11-20                 5             NIB  BESTBUY          2   \n",
       "4  2018-11-17                10             NIB   RETAIL          1   \n",
       "\n",
       "  loc_type_desc loc_type_code  inventory_on_hand  days_in_transit  \\\n",
       "0         STORE            MS                461              3.0   \n",
       "1         STORE            MS                  2              1.0   \n",
       "2         STORE           SDS                  2              1.0   \n",
       "3         STORE            MS                 37              1.0   \n",
       "4            DC            DC               1626              2.0   \n",
       "\n",
       "   inventory_above_request ship_zone  days_diff_planned  \\\n",
       "0                      460       5.0               11.0   \n",
       "1                        1       2.0                1.0   \n",
       "2                        1       4.0                6.0   \n",
       "3                       35       2.0                7.0   \n",
       "4                     1625       4.0                2.0   \n",
       "\n",
       "   calc_days_diff_planned  sec_diff_eventTM_orderDT day_of_week  week_of_year  \\\n",
       "0                      10                     2.833      Friday            46   \n",
       "1                       0                     2.261   Wednesday            46   \n",
       "2                       5                     5.200     Tuesday            47   \n",
       "3                       6                     5.278     Tuesday            47   \n",
       "4                       1                   557.562    Saturday            46   \n",
       "\n",
       "   diff_cut_grnd_event  diff_cut_air_event  exp_loc_qty_day  \\\n",
       "0           -10236.833          -10236.833          3366099   \n",
       "1           -18431.261          -18431.261              277   \n",
       "2             7917.800           14217.800               13   \n",
       "3           -29771.278          -30671.278              128   \n",
       "4           -31390.562          -31390.562           949769   \n",
       "\n",
       "   exp_loc_order_qty_day  rec_ship_from_loc_lat  rec_ship_from_loc_long  \\\n",
       "0                   1310              38.060691              -85.720904   \n",
       "1                     17              29.044149              -95.456131   \n",
       "2                      7              30.472990              -81.643570   \n",
       "3                     14              33.727421              -84.757843   \n",
       "4                   1522              36.542556             -119.404051   \n",
       "\n",
       "  rec_ship_from_loc_cluster   dest_lat   dest_long dest_cluster  \\\n",
       "0                        21  29.740630  -95.829571           13   \n",
       "1                        13  30.178248  -95.500960           13   \n",
       "2                        22  30.339837  -87.373783            6   \n",
       "3                        12  34.034515  -84.707349           12   \n",
       "4                         9  41.194538 -111.906345            7   \n",
       "\n",
       "   recommended_distance_shipped SHIP_WHEN_AVAIL_FLAG PRE_ORDER_FLAG  \\\n",
       "0                    815.284384                    N              N   \n",
       "1                     78.159317                    N              N   \n",
       "2                    342.225758                    N              N   \n",
       "3                     21.363836                    N              N   \n",
       "4                    515.844914                    N              N   \n",
       "\n",
       "   upgrade_dummy  \n",
       "0          False  \n",
       "1          False  \n",
       "2          False  \n",
       "3          False  \n",
       "4           True  "
      ]
     },
     "execution_count": 5,
     "metadata": {},
     "output_type": "execute_result"
    }
   ],
   "source": [
    "# Convert categorical variable to strings\n",
    "training_data_df['sku_department_id'] = training_data_df['sku_department_id'].astype(str)\n",
    "training_data_df['ship_zone'] = training_data_df['ship_zone'].astype(str)\n",
    "training_data_df['rec_ship_from_loc_cluster'] = training_data_df['rec_ship_from_loc_cluster'].astype(int).astype(str)\n",
    "training_data_df['dest_cluster'] = training_data_df['dest_cluster'].astype(str)\n",
    "\n",
    "# Show results\n",
    "#training_data_df.head()\n",
    "#training_data_df.info()"
   ]
  },
  {
   "cell_type": "markdown",
   "metadata": {},
   "source": [
    "#### Load test data"
   ]
  },
  {
   "cell_type": "code",
   "execution_count": 6,
   "metadata": {
    "scrolled": true
   },
   "outputs": [],
   "source": [
    "# Load test data\n",
    "test_data_df = pd.read_csv(\"./Data/test.txt\", sep = \"\\t\")\n",
    "#test_data_df.head(10)"
   ]
  },
  {
   "cell_type": "code",
   "execution_count": 7,
   "metadata": {},
   "outputs": [],
   "source": [
    "# Convert categorical variable to strings\n",
    "test_data_df['sku_department_id'] = test_data_df['sku_department_id'].astype(str)\n",
    "test_data_df['ship_zone'] = test_data_df['ship_zone'].astype(str)\n",
    "test_data_df['rec_ship_from_loc_cluster'] = test_data_df['rec_ship_from_loc_cluster'].astype(int).astype(str)\n",
    "test_data_df['dest_cluster'] = test_data_df['dest_cluster'].astype(str)\n",
    "\n",
    "# Show results\n",
    "#test_data_df.head()"
   ]
  },
  {
   "cell_type": "markdown",
   "metadata": {},
   "source": [
    "#### Load Validation Data"
   ]
  },
  {
   "cell_type": "code",
   "execution_count": 8,
   "metadata": {},
   "outputs": [],
   "source": [
    "validation_data_df = pd.read_csv(\"./Data/validation.txt\", sep = \"\\t\")\n",
    "#validation_data_df.head(10)"
   ]
  },
  {
   "cell_type": "code",
   "execution_count": 9,
   "metadata": {},
   "outputs": [],
   "source": [
    "# Convert categorical variable to strings\n",
    "validation_data_df['sku_department_id'] = validation_data_df['sku_department_id'].astype(str)\n",
    "validation_data_df['ship_zone'] = validation_data_df['ship_zone'].astype(str)\n",
    "validation_data_df['rec_ship_from_loc_cluster'] = validation_data_df['rec_ship_from_loc_cluster'].astype(int).astype(str)\n",
    "validation_data_df['dest_cluster'] = validation_data_df['dest_cluster'].astype(str)\n",
    "\n",
    "# Show results\n",
    "#validation_data_df.head()"
   ]
  },
  {
   "cell_type": "markdown",
   "metadata": {},
   "source": [
    "#### Fit Random Forest on just numerical features + SHIP_WHEN_AVAIL_FLAG"
   ]
  },
  {
   "cell_type": "code",
   "execution_count": 10,
   "metadata": {},
   "outputs": [],
   "source": [
    "X_train = training_data_df[['order_qty', \n",
    "                            'inventory_on_hand',\n",
    "                            'days_in_transit',\n",
    "                            'inventory_above_request',\n",
    "                            'calc_days_diff_planned',\n",
    "                            'sec_diff_eventTM_orderDT',\n",
    "                            'week_of_year',\n",
    "                            'diff_cut_grnd_event',\n",
    "                            'diff_cut_air_event',\n",
    "                            'exp_loc_qty_day',\n",
    "                            'exp_loc_order_qty_day',\n",
    "                            'rec_ship_from_loc_lat',\n",
    "                            'rec_ship_from_loc_long',\n",
    "                            'dest_lat',\n",
    "                            'dest_long',\n",
    "                            'recommended_distance_shipped',\n",
    "                            'loc_type_code',\n",
    "                            'SHIP_WHEN_AVAIL_FLAG'\n",
    "                           ]]\n",
    "\n",
    "X_train = pd.get_dummies(X_train)\n",
    "\n",
    "y_train = training_data_df['upgrade_dummy']"
   ]
  },
  {
   "cell_type": "code",
   "execution_count": 11,
   "metadata": {},
   "outputs": [],
   "source": [
    "X_test = test_data_df[['order_qty', \n",
    "                       'inventory_on_hand',\n",
    "                       'days_in_transit',\n",
    "                       'inventory_above_request',\n",
    "                       'calc_days_diff_planned',\n",
    "                       'sec_diff_eventTM_orderDT',\n",
    "                       'week_of_year',\n",
    "                       'diff_cut_grnd_event',\n",
    "                       'diff_cut_air_event',\n",
    "                       'exp_loc_qty_day',\n",
    "                       'exp_loc_order_qty_day',\n",
    "                       'rec_ship_from_loc_lat',\n",
    "                       'rec_ship_from_loc_long',\n",
    "                       'dest_lat',\n",
    "                       'dest_long',\n",
    "                       'recommended_distance_shipped',\n",
    "                       'loc_type_code',\n",
    "                       'SHIP_WHEN_AVAIL_FLAG'\n",
    "                      ]]\n",
    "\n",
    "X_test = pd.get_dummies(X_test)\n",
    "\n",
    "y_test = test_data_df['upgrade_dummy']"
   ]
  },
  {
   "cell_type": "code",
   "execution_count": 12,
   "metadata": {},
   "outputs": [],
   "source": [
    "X_valid = validation_data_df[['order_qty', \n",
    "                              'inventory_on_hand',\n",
    "                              'days_in_transit',\n",
    "                              'inventory_above_request',\n",
    "                              'calc_days_diff_planned',\n",
    "                              'sec_diff_eventTM_orderDT',\n",
    "                              'week_of_year',\n",
    "                              'diff_cut_grnd_event',\n",
    "                              'diff_cut_air_event',\n",
    "                              'exp_loc_qty_day',\n",
    "                              'exp_loc_order_qty_day',\n",
    "                              'rec_ship_from_loc_lat',\n",
    "                              'rec_ship_from_loc_long',\n",
    "                              'dest_lat',\n",
    "                              'dest_long',\n",
    "                              'recommended_distance_shipped',\n",
    "                              'loc_type_code',\n",
    "                              'SHIP_WHEN_AVAIL_FLAG'\n",
    "                              ]]\n",
    "\n",
    "X_valid = pd.get_dummies(X_valid)\n",
    "\n",
    "y_valid = validation_data_df['upgrade_dummy']"
   ]
  },
  {
   "cell_type": "code",
   "execution_count": null,
   "metadata": {},
   "outputs": [],
   "source": [
    "#X_train = X_train[:500000]\n",
    "#y_train = y_train[:500000]\n",
    "#X_test = X_test.sample(frac=0.1, random_state=23)\n",
    "#y_test = y_test.loc[y_test.index.isin(X_test.index)]"
   ]
  },
  {
   "cell_type": "markdown",
   "metadata": {},
   "source": [
    "#### Fit random forest classifier"
   ]
  },
  {
   "cell_type": "code",
   "execution_count": 14,
   "metadata": {},
   "outputs": [
    {
     "data": {
      "text/plain": [
       "RandomForestClassifier(bootstrap=True, class_weight=None, criterion='gini',\n",
       "            max_depth=None, max_features=6, max_leaf_nodes=None,\n",
       "            min_impurity_decrease=0.0, min_impurity_split=None,\n",
       "            min_samples_leaf=250, min_samples_split=15000,\n",
       "            min_weight_fraction_leaf=0.0, n_estimators=10, n_jobs=-1,\n",
       "            oob_score=False, random_state=0, verbose=0, warm_start=False)"
      ]
     },
     "execution_count": 14,
     "metadata": {},
     "output_type": "execute_result"
    }
   ],
   "source": [
    "rf = RandomForestClassifier(n_estimators=10, \n",
    "                            random_state=0,\n",
    "                            min_samples_split=15000,\n",
    "                            min_samples_leaf = 250,\n",
    "                            #max_depth=30,\n",
    "                            max_features=6,\n",
    "                            #oob_score=True,\n",
    "                            n_jobs=-1)\n",
    "\n",
    "rf.fit(X_train, y_train)"
   ]
  },
  {
   "cell_type": "code",
   "execution_count": null,
   "metadata": {},
   "outputs": [],
   "source": [
    "max([estimator.tree_.max_depth for estimator in rf.estimators_])"
   ]
  },
  {
   "cell_type": "code",
   "execution_count": null,
   "metadata": {},
   "outputs": [],
   "source": [
    "max([estimator.tree_.node_count for estimator in rf.estimators_])"
   ]
  },
  {
   "cell_type": "code",
   "execution_count": null,
   "metadata": {},
   "outputs": [],
   "source": [
    "print('Score: ', rf.score(X_train, y_train))\n",
    "#print('OOB Score: ', rf.oob_score_)"
   ]
  },
  {
   "cell_type": "code",
   "execution_count": null,
   "metadata": {},
   "outputs": [],
   "source": [
    "y_pred_rf = rf.predict_proba(X_test)[:, 1]\n",
    "y_pred_rf_no_probs = rf.predict(X_test)"
   ]
  },
  {
   "cell_type": "code",
   "execution_count": null,
   "metadata": {},
   "outputs": [],
   "source": [
    "fpr_rf, tpr_rf, _ = roc_curve(y_test, y_pred_rf)\n",
    "\n",
    "report2 = classification_report(y_test, y_pred_rf_no_probs)\n",
    "print(\"Classification Report:\")\n",
    "print(report2)\n",
    "print(\"Accuracy  Score : \", accuracy_score(y_test, y_pred_rf_no_probs))\n",
    "print(\"Area under curve: \", auc(fpr_rf, tpr_rf))"
   ]
  },
  {
   "cell_type": "code",
   "execution_count": null,
   "metadata": {},
   "outputs": [],
   "source": [
    "#Plot ROC Curve\n",
    "plt.figure(1)\n",
    "plt.plot([0, 1], [0, 1], 'k--')\n",
    "plt.plot(fpr_rf, tpr_rf, label='RF')\n",
    "plt.xlabel('False positive rate')\n",
    "plt.ylabel('True positive rate')\n",
    "plt.title('Receiver operating characteristic')\n",
    "#plt.legend(loc='best')\n",
    "plt.show()"
   ]
  },
  {
   "cell_type": "code",
   "execution_count": null,
   "metadata": {},
   "outputs": [],
   "source": [
    "print('Random Forest classifier performance:')\n",
    "print('Balanced accuracy: {:.2f} - Geometric mean {:.2f}'\n",
    "      .format(balanced_accuracy_score(y_test, y_pred_rf_no_probs),\n",
    "              geometric_mean_score(y_test, y_pred_rf_no_probs)))\n",
    "cm_rf = confusion_matrix(y_test, y_pred_rf_no_probs)\n",
    "fig, ax = plt.subplots()\n",
    "plot_confusion_matrix(cm_rf, classes=np.unique(y_train), ax=ax,\n",
    "                      title='Random Forest')"
   ]
  },
  {
   "cell_type": "code",
   "execution_count": null,
   "metadata": {},
   "outputs": [],
   "source": [
    "# get importances from RF\n",
    "importances = rf.feature_importances_\n",
    "\n",
    "# then sort them descending\n",
    "indices = np.argsort(importances)[0:]\n",
    "\n",
    "# get the features from the original data set\n",
    "features = X_train.columns\n",
    "\n",
    "# plot them with a horizontal bar chart\n",
    "plt.figure(1)\n",
    "plt.title('Feature Importances')\n",
    "plt.barh(range(len(indices)), importances[indices], color='b', align='center')\n",
    "plt.yticks(range(len(indices)), features[indices])\n",
    "plt.xlabel('Relative Importance')\n",
    "plt.show"
   ]
  },
  {
   "cell_type": "code",
   "execution_count": null,
   "metadata": {},
   "outputs": [],
   "source": [
    "index_upgrade = np.where(y_test == True)\n",
    "index_standard = np.where(y_test == False)\n",
    "\n",
    "# Histogram predictions without error bars:\n",
    "fig, ax = plt.subplots(1)\n",
    "ax.hist(y_pred_rf[index_upgrade], histtype='step', label='upgrade')\n",
    "# ax.hist(y_pred_rf[index_standard], histtype='step', label='standard')\n",
    "ax.set_xlabel('Prediction (upgrade probability)')\n",
    "ax.set_ylabel('Number of observations')\n",
    "plt.legend()\n",
    "plt.show()"
   ]
  },
  {
   "cell_type": "code",
   "execution_count": null,
   "metadata": {},
   "outputs": [],
   "source": [
    "# Histogram predictions without error bars:\n",
    "fig, ax = plt.subplots(1)\n",
    "ax.hist(y_pred_rf[index_upgrade], histtype='step', label='upgrade')\n",
    "ax.hist(y_pred_rf[index_standard], histtype='step', label='standard')\n",
    "ax.set_xlabel('Prediction (upgrade probability)')\n",
    "ax.set_ylabel('Number of observations')\n",
    "plt.legend()\n",
    "plt.show()"
   ]
  },
  {
   "cell_type": "code",
   "execution_count": null,
   "metadata": {},
   "outputs": [],
   "source": [
    "# Compare prediction for out of sample cross-validation framework\n",
    "y_valid_rf = rf.predict_proba(X_valid)[:, 1]\n",
    "y_valid_rf_no_probs = rf.predict(X_valid)\n",
    "\n",
    "fpr_valid_rf, tpr_valid_rf, _ = roc_curve(y_valid, y_valid_rf)\n",
    "\n",
    "report3 = classification_report(y_valid, y_valid_rf_no_probs)\n",
    "print(\"Classification Report:\")\n",
    "print(report3)\n",
    "print(\"Accuracy  Score : \", accuracy_score(y_valid, y_valid_rf_no_probs))\n",
    "print(\"Area under curve: \", auc(fpr_valid_rf, tpr_valid_rf))"
   ]
  },
  {
   "cell_type": "code",
   "execution_count": null,
   "metadata": {},
   "outputs": [],
   "source": [
    "#Plot ROC Curve\n",
    "plt.figure(1)\n",
    "plt.plot([0, 1], [0, 1], 'k--')\n",
    "plt.plot(fpr_valid_rf, tpr_valid_rf, label='RF')\n",
    "plt.xlabel('False positive rate')\n",
    "plt.ylabel('True positive rate')\n",
    "plt.title('Receiver operating characteristic')\n",
    "#plt.legend(loc='best')\n",
    "plt.show()"
   ]
  },
  {
   "cell_type": "code",
   "execution_count": null,
   "metadata": {},
   "outputs": [],
   "source": [
    "print('Random Forest classifier performance:')\n",
    "print('Balanced accuracy: {:.2f} - Geometric mean {:.2f}'\n",
    "      .format(balanced_accuracy_score(y_valid, y_valid_rf_no_probs),\n",
    "              geometric_mean_score(y_valid, y_valid_rf_no_probs)))\n",
    "cm_rf = confusion_matrix(y_valid, y_valid_rf_no_probs)\n",
    "fig, ax = plt.subplots()\n",
    "plot_confusion_matrix(cm_rf, classes=np.unique(y_train), ax=ax,\n",
    "                      title='Random Forest')"
   ]
  },
  {
   "cell_type": "markdown",
   "metadata": {},
   "source": [
    "#### Fit balanced random forest classifier"
   ]
  },
  {
   "cell_type": "code",
   "execution_count": null,
   "metadata": {},
   "outputs": [],
   "source": [
    "# brf = BalancedRandomForestClassifier(n_estimators=500, \n",
    "#                                      random_state=0,\n",
    "#                                      min_samples_split=2500,\n",
    "#                                      min_samples_leaf=250,\n",
    "#                                      #max_depth=10,\n",
    "#                                      max_features=5,\n",
    "#                                      #oob_score=True,\n",
    "#                                      n_jobs=-1)\n",
    "brf = BalancedRandomForestClassifier(n_estimators=500, \n",
    "                                     random_state=0,\n",
    "                                     min_samples_split=4000,\n",
    "                                     min_samples_leaf=250,\n",
    "                                     #max_depth=10,\n",
    "                                     max_features=6,\n",
    "                                     #oob_score=True,\n",
    "                                     n_jobs=-1)\n",
    "\n",
    "brf.fit(X_train, y_train)"
   ]
  },
  {
   "cell_type": "code",
   "execution_count": null,
   "metadata": {},
   "outputs": [],
   "source": [
    "max([estimator.tree_.max_depth for estimator in brf.estimators_])"
   ]
  },
  {
   "cell_type": "code",
   "execution_count": null,
   "metadata": {},
   "outputs": [],
   "source": [
    "max([estimator.tree_.node_count for estimator in brf.estimators_])"
   ]
  },
  {
   "cell_type": "code",
   "execution_count": null,
   "metadata": {},
   "outputs": [],
   "source": [
    "print('Score: ', brf.score(X_train, y_train))\n",
    "#print('OOB Score: ', brf.oob_score_)"
   ]
  },
  {
   "cell_type": "code",
   "execution_count": null,
   "metadata": {},
   "outputs": [],
   "source": [
    "y_pred_brf = brf.predict_proba(X_test)[:, 1]\n",
    "y_pred_brf_no_probs = brf.predict(X_test)"
   ]
  },
  {
   "cell_type": "code",
   "execution_count": null,
   "metadata": {},
   "outputs": [],
   "source": [
    "fpr_brf, tpr_brf, _ = roc_curve(y_test, y_pred_brf)\n",
    "\n",
    "report = classification_report(y_test, y_pred_brf_no_probs)\n",
    "print(\"Classification Report:\")\n",
    "print(report)\n",
    "print(\"Accuracy  Score : \", accuracy_score(y_test, y_pred_brf_no_probs))\n",
    "print(\"Area under curve: \", auc(fpr_brf, tpr_brf))"
   ]
  },
  {
   "cell_type": "code",
   "execution_count": null,
   "metadata": {},
   "outputs": [],
   "source": [
    "plt.figure(1)\n",
    "plt.plot([0, 1], [0, 1], 'k--')\n",
    "plt.plot(fpr_rf, tpr_rf, label='RF')\n",
    "plt.xlabel('False positive rate')\n",
    "plt.ylabel('True positive rate')\n",
    "plt.title('Receiver operating characteristic')\n",
    "#plt.legend(loc='best')\n",
    "plt.show()"
   ]
  },
  {
   "cell_type": "code",
   "execution_count": null,
   "metadata": {},
   "outputs": [],
   "source": [
    "y_pred_brf_no_probs = brf.predict(X_test)\n",
    "\n",
    "print('Balanced Random Forest classifier performance:')\n",
    "print('Balanced accuracy: {:.2f} - Geometric mean {:.2f}'\n",
    "      .format(balanced_accuracy_score(y_test, y_pred_brf_no_probs),\n",
    "              geometric_mean_score(y_test, y_pred_brf_no_probs)))\n",
    "cm_rf = confusion_matrix(y_test, y_pred_brf_no_probs)\n",
    "fig, ax = plt.subplots()\n",
    "plot_confusion_matrix(cm_rf, classes=np.unique(y_train), ax=ax,\n",
    "                      title='Balanced Random Forest')"
   ]
  },
  {
   "cell_type": "code",
   "execution_count": null,
   "metadata": {},
   "outputs": [],
   "source": [
    "# get importances from RF\n",
    "importances = brf.feature_importances_\n",
    "\n",
    "# then sort them descending\n",
    "indices = np.argsort(importances)[0:]\n",
    "\n",
    "# get the features from the original data set\n",
    "features = X_train.columns\n",
    "\n",
    "# plot them with a horizontal bar chart\n",
    "plt.figure(1)\n",
    "plt.title('Feature Importances')\n",
    "plt.barh(range(len(indices)), importances[indices], color='b', align='center')\n",
    "plt.yticks(range(len(indices)), features[indices])\n",
    "plt.xlabel('Relative Importance')\n",
    "plt.show"
   ]
  },
  {
   "cell_type": "code",
   "execution_count": null,
   "metadata": {},
   "outputs": [],
   "source": [
    "index_upgrade = np.where(y_test == True)\n",
    "index_standard = np.where(y_test == False)\n",
    "y_pred_brf = brf.predict_proba(X_test)[:, 1]\n",
    "\n",
    "# Histogram predictions without error bars:\n",
    "fig, ax = plt.subplots(1)\n",
    "ax.hist(y_pred_brf[index_upgrade], histtype='step', label='upgrade')\n",
    "# ax.hist(y_pred_rf[index_standard], histtype='step', label='standard')\n",
    "ax.set_xlabel('Prediction (upgrade probability)')\n",
    "ax.set_ylabel('Number of observations')\n",
    "plt.legend()\n",
    "plt.show()"
   ]
  },
  {
   "cell_type": "code",
   "execution_count": null,
   "metadata": {},
   "outputs": [],
   "source": [
    "# Histogram predictions without error bars:\n",
    "fig, ax = plt.subplots(1)\n",
    "ax.hist(y_pred_brf[index_upgrade], histtype='step', label='upgrade')\n",
    "ax.hist(y_pred_brf[index_standard], histtype='step', label='standard')\n",
    "ax.set_xlabel('Prediction (upgrade probability)')\n",
    "ax.set_ylabel('Number of observations')\n",
    "plt.legend()\n",
    "plt.show()"
   ]
  },
  {
   "cell_type": "code",
   "execution_count": null,
   "metadata": {},
   "outputs": [],
   "source": [
    "y_valid_brf = brf.predict_proba(X_valid)[:, 1]\n",
    "y_valid_brf_no_probs = brf.predict(X_valid)\n",
    "\n",
    "fpr_valid_brf, tpr_valid_brf, _ = roc_curve(y_valid, y_valid_brf)\n",
    "\n",
    "report4 = classification_report(y_valid, y_valid_brf_no_probs)\n",
    "print(\"Classification Report:\")\n",
    "print(report4)\n",
    "print(\"Accuracy  Score : \", accuracy_score(y_valid, y_valid_brf_no_probs))\n",
    "print(\"Area under curve: \", auc(fpr_valid_brf, tpr_valid_brf))"
   ]
  },
  {
   "cell_type": "code",
   "execution_count": null,
   "metadata": {},
   "outputs": [],
   "source": [
    "print('Random Forest classifier performance:')\n",
    "print('Balanced accuracy: {:.2f} - Geometric mean {:.2f}'\n",
    "      .format(balanced_accuracy_score(y_valid, y_valid_brf_no_probs),\n",
    "              geometric_mean_score(y_valid, y_valid_brf_no_probs)))\n",
    "cm_rf = confusion_matrix(y_valid, y_valid_brf_no_probs)\n",
    "fig, ax = plt.subplots()\n",
    "plot_confusion_matrix(cm_rf, classes=np.unique(y_train), ax=ax,\n",
    "                      title='Balanced Random Forest')"
   ]
  },
  {
   "cell_type": "code",
   "execution_count": null,
   "metadata": {},
   "outputs": [],
   "source": [
    "plt.figure(1)\n",
    "plt.plot([0, 1], [0, 1], 'k--')\n",
    "plt.plot(fpr_valid_brf, tpr_valid_brf, label='RF')\n",
    "plt.xlabel('False positive rate')\n",
    "plt.ylabel('True positive rate')\n",
    "plt.title('Receiver operating characteristic')\n",
    "#plt.legend(loc='best')\n",
    "plt.show()"
   ]
  },
  {
   "cell_type": "code",
   "execution_count": null,
   "metadata": {},
   "outputs": [],
   "source": [
    "y_valid_avg = 0.85*y_valid_brf + 0.15*y_valid_rf\n",
    "y_valid_avg_no_probs = [val >= 0.5 for val in y_valid_avg]"
   ]
  },
  {
   "cell_type": "code",
   "execution_count": null,
   "metadata": {},
   "outputs": [],
   "source": [
    "fpr_valid_avg, tpr_valid_avg, _ = roc_curve(y_valid, y_valid_avg)\n",
    "\n",
    "report4 = classification_report(y_valid, y_valid_avg_no_probs)\n",
    "print(\"Classification Report:\")\n",
    "print(report4)\n",
    "print(\"Accuracy  Score : \", accuracy_score(y_valid, y_valid_avg_no_probs))\n",
    "print(\"Area under curve: \", auc(fpr_valid_avg, tpr_valid_avg))"
   ]
  },
  {
   "cell_type": "code",
   "execution_count": null,
   "metadata": {},
   "outputs": [],
   "source": [
    "plt.figure(1)\n",
    "plt.plot([0, 1], [0, 1], 'k--')\n",
    "plt.plot(fpr_valid_brf, tpr_valid_brf, label='RF')\n",
    "plt.xlabel('False positive rate')\n",
    "plt.ylabel('True positive rate')\n",
    "plt.title('Receiver operating characteristic')\n",
    "#plt.legend(loc='best')\n",
    "plt.show()"
   ]
  },
  {
   "cell_type": "code",
   "execution_count": null,
   "metadata": {},
   "outputs": [],
   "source": [
    "print('Random Forest classifier performance:')\n",
    "print('Balanced accuracy: {:.2f} - Geometric mean {:.2f}'\n",
    "      .format(balanced_accuracy_score(y_valid, y_valid_avg_no_probs),\n",
    "              geometric_mean_score(y_valid, y_valid_avg_no_probs)))\n",
    "cm_rf = confusion_matrix(y_valid, y_valid_avg_no_probs)\n",
    "fig, ax = plt.subplots()\n",
    "plot_confusion_matrix(cm_rf, classes=np.unique(y_train), ax=ax,\n",
    "                      title='Random Forest')"
   ]
  },
  {
   "cell_type": "markdown",
   "metadata": {},
   "source": [
    "#### Perform Grid Search"
   ]
  },
  {
   "cell_type": "code",
   "execution_count": null,
   "metadata": {},
   "outputs": [],
   "source": [
    "from sklearn.model_selection import RandomizedSearchCV\n",
    "\n",
    "# Number of trees in random forest\n",
    "n_estimators = [100, 250, 500]\n",
    "\n",
    "# Number of features to consider at every split\n",
    "max_features = np.arange(3,8)\n",
    "\n",
    "# Maximum number of levels in tree\n",
    "max_depth = [10, 25, 50, 100, 150, 200]\n",
    "max_depth.append(None)\n",
    "\n",
    "# Minimum number of samples required to split a node\n",
    "min_samples_split = [50, 100, 200, 500]\n",
    "\n",
    "# Minimum number of samples required at each leaf node\n",
    "min_samples_leaf = [10, 50, 100, 200, 500]\n",
    "\n",
    "\n",
    "# Create the random grid\n",
    "random_grid = {'n_estimators': n_estimators,\n",
    "               'max_features': max_features,\n",
    "               'max_depth': max_depth,\n",
    "               'min_samples_split': min_samples_split,\n",
    "               'min_samples_leaf': min_samples_leaf\n",
    "              }"
   ]
  },
  {
   "cell_type": "code",
   "execution_count": null,
   "metadata": {},
   "outputs": [],
   "source": [
    "# Use the random grid to search for best hyperparameters\n",
    "# First create the base model to tune\n",
    "rf = RandomForestClassifier()\n",
    "\n",
    "# Random search of parameters, using 2 fold cross validation, \n",
    "# search across 20 different combinations, and use all available cores\n",
    "rf_random = RandomizedSearchCV(estimator = rf, \n",
    "                               param_distributions = random_grid, \n",
    "                               n_iter = 20, \n",
    "                               cv = 2, \n",
    "                               verbose=2, \n",
    "                               random_state=42, \n",
    "                               n_jobs = -1\n",
    "                              )\n",
    "\n",
    "# Fit the random search model\n",
    "rf_random.fit(X_train, y_train)"
   ]
  },
  {
   "cell_type": "code",
   "execution_count": null,
   "metadata": {},
   "outputs": [],
   "source": [
    "# View the best parameters\n",
    "rf_random.best_params_"
   ]
  },
  {
   "cell_type": "markdown",
   "metadata": {},
   "source": [
    "#### Perform Cross Validation"
   ]
  },
  {
   "cell_type": "code",
   "execution_count": null,
   "metadata": {},
   "outputs": [],
   "source": [
    "from sklearn.model_selection import GridSearchCV\n",
    "\n",
    "# Create the parameter grid based on the results of random search \n",
    "param_grid = {\n",
    "    'bootstrap': [True],\n",
    "    'max_depth': [80, 90, 100, 110],\n",
    "    'max_features': [2, 3],\n",
    "    'min_samples_leaf': [3, 4, 5],\n",
    "    'min_samples_split': [8, 10, 12],\n",
    "    'n_estimators': [100, 200, 300, 1000]\n",
    "}\n",
    "\n",
    "# Create a based model\n",
    "rf = RandomForestRegressor()\n",
    "\n",
    "# Instantiate the grid search model\n",
    "grid_search = GridSearchCV(estimator = rf, param_grid = param_grid, \n",
    "                          cv = 3, n_jobs = -1, verbose = 2)"
   ]
  },
  {
   "cell_type": "markdown",
   "metadata": {},
   "source": [
    "#### Plot classification forest error bars"
   ]
  },
  {
   "cell_type": "code",
   "execution_count": null,
   "metadata": {},
   "outputs": [],
   "source": [
    "import forestci as fci"
   ]
  },
  {
   "cell_type": "code",
   "execution_count": null,
   "metadata": {},
   "outputs": [],
   "source": [
    "index_upgrade = np.where(y_test == True)\n",
    "index_standard = np.where(y_test == False)\n",
    "y_pred_rf = rf.predict_proba(X_test)[:, 1]\n",
    "\n",
    "# Histogram predictions without error bars:\n",
    "fig, ax = plt.subplots(1)\n",
    "ax.hist(y_pred_rf[index_upgrade], histtype='step', label='upgrade')\n",
    "ax.hist(y_pred_rf[index_standard], histtype='step', label='standard')\n",
    "ax.set_xlabel('Prediction (upgrade probability)')\n",
    "ax.set_ylabel('Number of observations')\n",
    "plt.legend()\n",
    "\n",
    "# Calcualte the variance\n",
    "upgrade_variance_unbiased = fci.random_forest_error(rf, \n",
    "                                                    X_train, \n",
    "                                                    X_test,\n",
    "                                                    memory_constrained = True,\n",
    "                                                    memory_limit = 9000\n",
    "                                                   )\n",
    "\n",
    "# Plot forest prediction for emails and standard deviation for estimates\n",
    "# Blue points are spam emails; Green points are non-spam emails\n",
    "fig, ax = plt.subplots(1)\n",
    "ax.scatter(y_pred_rf[index_upgrade],\n",
    "           np.sqrt(upgrade_variance_unbiased[index_upgrade]),\n",
    "           label='upgrade')\n",
    "\n",
    "ax.scatter(y_pred_rf[index_standard],\n",
    "           np.sqrt(upgrade_variance_unbiased[index_standard]),\n",
    "           label='standard')\n",
    "\n",
    "ax.set_xlabel('Prediction (upgrade probability)')\n",
    "ax.set_ylabel('Standard deviation')\n",
    "plt.legend()\n",
    "plt.show()"
   ]
  },
  {
   "cell_type": "code",
   "execution_count": null,
   "metadata": {},
   "outputs": [],
   "source": [
    "pred = np.array([tree.predict(X_test) for tree in rf]).T\n",
    "print(max(np.mean(pred, 1)))\n",
    "print(min(np.mean(pred, 1)))"
   ]
  },
  {
   "cell_type": "code",
   "execution_count": null,
   "metadata": {},
   "outputs": [],
   "source": [
    "index_upgrade = np.where(y_test == True)\n",
    "index_standard = np.where(y_test == False)\n",
    "\n",
    "# Histogram predictions without error bars:\n",
    "fig, ax = plt.subplots(1)\n",
    "ax.hist(y_pred_brf[index_upgrade], histtype='step', label='upgrade')\n",
    "ax.hist(y_pred_brf[index_standard], histtype='step', label='standard')\n",
    "ax.set_xlabel('Prediction (upgrade probability)')\n",
    "ax.set_ylabel('Number of observations')\n",
    "plt.legend()\n",
    "\n",
    "# Calcualte the variance\n",
    "upgrade_variance_unbiased_brf = fci.random_forest_error(brf, \n",
    "                                                        X_train, \n",
    "                                                        X_test,\n",
    "                                                        memory_constrained = True,\n",
    "                                                        memory_limit = 9000\n",
    "                                                       )\n",
    "\n",
    "# Plot forest prediction for emails and standard deviation for estimates\n",
    "# Blue points are spam emails; Green points are non-spam emails\n",
    "fig, ax = plt.subplots(1)\n",
    "ax.scatter(y_pred_brf[index_upgrade],\n",
    "           np.sqrt(upgrade_variance_unbiased_brf[index_upgrade]),\n",
    "           label='upgrade')\n",
    "\n",
    "ax.scatter(y_pred_brf[index_standard],\n",
    "           np.sqrt(upgrade_variance_unbiased_brf[index_standard]),\n",
    "           label='standard')\n",
    "\n",
    "ax.set_xlabel('Prediction (upgrade probability)')\n",
    "ax.set_ylabel('Standard deviation')\n",
    "plt.legend()\n",
    "plt.show()"
   ]
  },
  {
   "cell_type": "code",
   "execution_count": null,
   "metadata": {},
   "outputs": [],
   "source": [
    "pred = np.array([tree.predict(X_test) for tree in brf]).T\n",
    "pred_mean = np.mean(pred, 1)\n",
    "print(\"Max probability: \", max(pred_mean))\n",
    "print(\"Min probability: \", min(pred_mean))"
   ]
  },
  {
   "cell_type": "code",
   "execution_count": null,
   "metadata": {},
   "outputs": [],
   "source": []
  }
 ],
 "metadata": {
  "kernelspec": {
   "display_name": "Python 3",
   "language": "python",
   "name": "python3"
  },
  "language_info": {
   "codemirror_mode": {
    "name": "ipython",
    "version": 3
   },
   "file_extension": ".py",
   "mimetype": "text/x-python",
   "name": "python",
   "nbconvert_exporter": "python",
   "pygments_lexer": "ipython3",
   "version": "3.7.1"
  }
 },
 "nbformat": 4,
 "nbformat_minor": 2
}
